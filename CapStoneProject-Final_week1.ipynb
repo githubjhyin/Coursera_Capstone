{
 "cells": [
  {
   "cell_type": "markdown",
   "metadata": {},
   "source": [
    "# Capstone Project: Find the best locations  in New York City  to open a supply store to Japanese restaurants\n",
    "\n",
    "\n",
    "\n",
    "## Introduction\n",
    "\n",
    "One of my friends will re-relocate from Austin, TA to New York City. His family want to re-open Supply Store to Japanese restaurants in New York city like what they did in Austin.   He need some help from me to   determine which neighborhood in new York city he should open his new store based on data science.\n",
    "\n",
    "\n",
    "## Problem Description\n",
    "\n",
    "The objective of this Capstone project is to analyze and select the best locations in the city of New York to open a new Supply Store to Japanese restaurants. Using Data Science methodology and instruments such as Data Analysis and Visualization, this project aims to provide solutions to answer the business question: Where in the city of New York, should the investor open a supply store to Japanese restaurants with steady customer and profits? \n",
    "\n",
    "\n",
    "## Data\n",
    "\n",
    "To solve the problem, we will need the following data: \n",
    "*  New York City data containing the neighborhoods and boroughs.\n",
    "*  Latitude and longitude coordinates of those neighborhoods. This is required to plot the map and get the venue data.\n",
    "*  Venue data, particularly data related to restaurants. We are going to use this data to perform further analysis of the neighborhoods.\n",
    "\n",
    "\n",
    "## Data Source and Methods to extract them\n",
    "\n",
    "1. New York City data containing the neighborhoods and boroughs will be obtained from the open data source: https://cocl.us/new_york_dataset. \n",
    "2. Get the geographical coordinates of the neighborhoods (latitude and longitude) using Python Geocoder package. \n",
    "3. find the number of Japanese restaurants and rating of each restaurants in each neighborhoods.\n",
    "4. identify the location with more Japanese restaurants with better customer ratings. \n",
    "3. Foursquare API to get the venue data for the neighborhoods defined at the previous step. \n",
    "\n",
    "\n",
    "\n",
    "\n",
    "\n"
   ]
  },
  {
   "cell_type": "markdown",
   "metadata": {},
   "source": []
  }
 ],
 "metadata": {
  "kernelspec": {
   "display_name": "Python 3.7",
   "language": "python",
   "name": "python3"
  },
  "language_info": {
   "codemirror_mode": {
    "name": "ipython",
    "version": 3
   },
   "file_extension": ".py",
   "mimetype": "text/x-python",
   "name": "python",
   "nbconvert_exporter": "python",
   "pygments_lexer": "ipython3",
   "version": "3.7.9"
  }
 },
 "nbformat": 4,
 "nbformat_minor": 2
}
